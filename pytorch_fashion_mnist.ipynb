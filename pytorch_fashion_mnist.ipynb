{
  "nbformat": 4,
  "nbformat_minor": 0,
  "metadata": {
    "colab": {
      "provenance": [],
      "gpuType": "T4",
      "authorship_tag": "ABX9TyMkJDy2LM7pqVzLtxrJBFLE",
      "include_colab_link": true
    },
    "kernelspec": {
      "name": "python3",
      "display_name": "Python 3"
    },
    "language_info": {
      "name": "python"
    },
    "accelerator": "GPU"
  },
  "cells": [
    {
      "cell_type": "markdown",
      "metadata": {
        "id": "view-in-github",
        "colab_type": "text"
      },
      "source": [
        "<a href=\"https://colab.research.google.com/github/doongjinn/pytorch_practice/blob/main/pytorch_fashion_mnist.ipynb\" target=\"_parent\"><img src=\"https://colab.research.google.com/assets/colab-badge.svg\" alt=\"Open In Colab\"/></a>"
      ]
    },
    {
      "cell_type": "markdown",
      "source": [
        "#Data loader"
      ],
      "metadata": {
        "id": "w7Y3qfsXX4_w"
      }
    },
    {
      "cell_type": "code",
      "source": [
        "import torch\n",
        "from torch.utils.data import Dataset\n",
        "from torchvision import datasets\n",
        "from torchvision.transforms import ToTensor\n",
        "import matplotlib.pyplot as plt\n",
        "\n",
        "training_data = datasets.FashionMNIST(\n",
        "    root=\"data\",\n",
        "    train = True,\n",
        "    download = True,\n",
        "    transform = ToTensor()\n",
        ")\n",
        "test_data = datasets.FashionMNIST(\n",
        "    root = \"data\",\n",
        "    train = False,\n",
        "    download = True,\n",
        "    transform=ToTensor()\n",
        ")"
      ],
      "metadata": {
        "colab": {
          "base_uri": "https://localhost:8080/"
        },
        "id": "8KQPmNO1kF1M",
        "outputId": "80893756-8ea4-4cdb-ced7-2b6daf5fa1ee"
      },
      "execution_count": null,
      "outputs": [
        {
          "output_type": "stream",
          "name": "stdout",
          "text": [
            "Downloading http://fashion-mnist.s3-website.eu-central-1.amazonaws.com/train-images-idx3-ubyte.gz\n",
            "Downloading http://fashion-mnist.s3-website.eu-central-1.amazonaws.com/train-images-idx3-ubyte.gz to data/FashionMNIST/raw/train-images-idx3-ubyte.gz\n"
          ]
        },
        {
          "output_type": "stream",
          "name": "stderr",
          "text": [
            "100%|██████████| 26421880/26421880 [00:01<00:00, 15412781.40it/s]\n"
          ]
        },
        {
          "output_type": "stream",
          "name": "stdout",
          "text": [
            "Extracting data/FashionMNIST/raw/train-images-idx3-ubyte.gz to data/FashionMNIST/raw\n",
            "\n",
            "Downloading http://fashion-mnist.s3-website.eu-central-1.amazonaws.com/train-labels-idx1-ubyte.gz\n",
            "Downloading http://fashion-mnist.s3-website.eu-central-1.amazonaws.com/train-labels-idx1-ubyte.gz to data/FashionMNIST/raw/train-labels-idx1-ubyte.gz\n"
          ]
        },
        {
          "output_type": "stream",
          "name": "stderr",
          "text": [
            "100%|██████████| 29515/29515 [00:00<00:00, 225231.08it/s]\n"
          ]
        },
        {
          "output_type": "stream",
          "name": "stdout",
          "text": [
            "Extracting data/FashionMNIST/raw/train-labels-idx1-ubyte.gz to data/FashionMNIST/raw\n",
            "\n",
            "Downloading http://fashion-mnist.s3-website.eu-central-1.amazonaws.com/t10k-images-idx3-ubyte.gz\n",
            "Downloading http://fashion-mnist.s3-website.eu-central-1.amazonaws.com/t10k-images-idx3-ubyte.gz to data/FashionMNIST/raw/t10k-images-idx3-ubyte.gz\n"
          ]
        },
        {
          "output_type": "stream",
          "name": "stderr",
          "text": [
            "100%|██████████| 4422102/4422102 [00:01<00:00, 4253247.92it/s]\n"
          ]
        },
        {
          "output_type": "stream",
          "name": "stdout",
          "text": [
            "Extracting data/FashionMNIST/raw/t10k-images-idx3-ubyte.gz to data/FashionMNIST/raw\n",
            "\n",
            "Downloading http://fashion-mnist.s3-website.eu-central-1.amazonaws.com/t10k-labels-idx1-ubyte.gz\n",
            "Downloading http://fashion-mnist.s3-website.eu-central-1.amazonaws.com/t10k-labels-idx1-ubyte.gz to data/FashionMNIST/raw/t10k-labels-idx1-ubyte.gz\n"
          ]
        },
        {
          "output_type": "stream",
          "name": "stderr",
          "text": [
            "100%|██████████| 5148/5148 [00:00<00:00, 18662296.45it/s]"
          ]
        },
        {
          "output_type": "stream",
          "name": "stdout",
          "text": [
            "Extracting data/FashionMNIST/raw/t10k-labels-idx1-ubyte.gz to data/FashionMNIST/raw\n",
            "\n"
          ]
        },
        {
          "output_type": "stream",
          "name": "stderr",
          "text": [
            "\n"
          ]
        }
      ]
    },
    {
      "cell_type": "code",
      "source": [
        "labels_map = {\n",
        "    0:\"t-shirt\",\n",
        "    1:\"Trouser\",\n",
        "    2:\"Pullover\",\n",
        "    3:\"Dress\",\n",
        "    4:\"Coat\",\n",
        "    5:\"Sandal\",\n",
        "    6:\"shirt\",\n",
        "    7:\"Sneaker\",\n",
        "    8:\"Bag\",\n",
        "    9:\"Ankle Boot\",\n",
        "}\n",
        "figure = plt.figure(figsize=(8,8))\n",
        "cols,rows = 3,3\n",
        "for i in range(1,cols * rows +1):\n",
        "  sample_idx = torch.randint(len(training_data), size=(1,)).item()\n",
        "  img,label = training_data[sample_idx]\n",
        "  figure.add_subplot(rows, cols, i)\n",
        "  plt.title(labels_map[label])\n",
        "  plt.axis(\"off\")\n",
        "  plt.imshow(img.squeeze(), cmap=\"gray\")\n",
        "plt.show()"
      ],
      "metadata": {
        "colab": {
          "base_uri": "https://localhost:8080/",
          "height": 675
        },
        "id": "ewQrUygDk1tc",
        "outputId": "47dcf2d7-d353-4099-c9c4-a153e551db65"
      },
      "execution_count": null,
      "outputs": [
        {
          "output_type": "display_data",
          "data": {
            "text/plain": [
              "<Figure size 800x800 with 9 Axes>"
            ],
            "image/png": "[encoded data removed]"
          },
          "metadata": {}
        }
      ]
    },
    {
      "cell_type": "code",
      "source": [
        "import numpy as np\n",
        "\n",
        "def softmax(a):\n",
        "  exp_a = np.exp(a)\n",
        "  sum_exp_a = np.sum(exp_a)\n",
        "  y = exp_a/sum_exp_a\n",
        "  return y\n",
        "def cross_entropy_error(y, t):\n",
        "  delta = 1e-7\n",
        "  return -np.sum(t *np.log(y+delta))\n",
        "\n",
        "t = [0,0,1,0,0]\n",
        "y = [0.1,0.2,0.3,0.2,0.2]\n",
        "y = softmax(y)\n",
        "ce1 = cross_entropy_error(np.array(y), np.array(t))\n",
        "print(ce1)\n",
        "\n",
        "t = [0,1,0,0,0]\n",
        "y = [0.5,0.2,0.1,0.1,0.1]\n",
        "y = softmax(y)\n",
        "ce2 = cross_entropy_error(np.array(y), np.array(t))\n",
        "print(ce2)\n",
        "\n",
        "print((ce1 + ce2)/2)"
      ],
      "metadata": {
        "colab": {
          "base_uri": "https://localhost:8080/"
        },
        "id": "tv03RF8N-gwr",
        "outputId": "d067d432-b35c-4537-d96c-0c88ba7f40fd"
      },
      "execution_count": null,
      "outputs": [
        {
          "output_type": "stream",
          "name": "stdout",
          "text": [
            "1.5114371256657235\n",
            "1.622229450144605\n",
            "1.5668332879051643\n"
          ]
        }
      ]
    },
    {
      "cell_type": "markdown",
      "source": [
        "#fashion mnist"
      ],
      "metadata": {
        "id": "dtKR36YZ_zg1"
      }
    },
    {
      "cell_type": "code",
      "source": [
        "import torch\n",
        "from torch import nn\n",
        "from torch.utils.data import DataLoader\n",
        "from torchvision import datasets\n",
        "from torchvision.transforms import ToTensor\n",
        "\n",
        "training_data = datasets.FashionMNIST(\n",
        "    root=\"data\",\n",
        "    train = True,\n",
        "    download = True,\n",
        "    transform = ToTensor()\n",
        ")\n",
        "test_data = datasets.FashionMNIST(\n",
        "    root = \"data\",\n",
        "    train = False,\n",
        "    download = True,\n",
        "    transform=ToTensor()\n",
        ")\n",
        "batch_size = 64\n",
        "\n",
        "train_dataloader = DataLoader(training_data, batch_size = batch_size)\n",
        "test_dataloader = DataLoader(test_data, batch_size = batch_size)\n",
        "\n",
        "for X, y in train_dataloader:\n",
        "      print(f\"Shape of X [N, C, H, W]: {X.shape}\")\n",
        "      print(f\"Shape of y: {y.shape} {y.dtype}\")\n",
        "      break\n",
        "for X, y in test_dataloader:\n",
        "      print(f\"Shape of X [N, C, H, W]: {X.shape}\")\n",
        "      print(f\"Shape of y: {y.shape} {y.dtype}\")\n",
        "      break\n",
        "\n",
        "device = \"cuda\" if torch.cuda.is_available() else \"cpu\"\n",
        "print(f\"Using {device} device\")\n",
        "\n",
        "class NeuralNetwork(nn.Module):\n",
        "  def __init__(self):\n",
        "    super(NeuralNetwork, self).__init__()\n",
        "    self.flatten = nn.Flatten()\n",
        "    self.linear_relu_stack = nn.Sequential(\n",
        "        nn.Linear(28*28, 512),\n",
        "        nn.ReLU(),\n",
        "        nn.Linear(512,512),\n",
        "        nn.ReLU(),\n",
        "        nn.Linear(512,10)\n",
        "    )\n",
        "  def forward(self,x):\n",
        "    x = self.flatten(x)\n",
        "    logits = self.linear_relu_stack(x)\n",
        "    return logits\n",
        "model = NeuralNetwork().to(device)\n",
        "print(model)\n",
        "\n",
        "loss_fn = nn.CrossEntropyLoss()\n",
        "optimizer = torch.optim.SGD(model.parameters(),lr=1e-3)\n",
        "\n",
        "def train(dataloader, model, loss_fn, optimizer):\n",
        "  size = len(dataloader.dataset)\n",
        "\n",
        "  for batch,(X,y) in enumerate(dataloader):\n",
        "    X,y = X.to(device),y.to(device)\n",
        "    pred = model(X)\n",
        "    loss = loss_fn(pred,y)\n",
        "    optimizer.zero_grad()\n",
        "    loss.backward()\n",
        "    optimizer.step()\n",
        "\n",
        "    if batch % 100 ==0:\n",
        "      loss, current = loss.item(),batch *len(X)\n",
        "      print(f\"loss:{loss:>7f} [{current:>5d}/{size:>5d}]\")\n",
        "\n",
        "def test(dataloader, model, loss_fn):\n",
        "  size = len(dataloader.dataset)\n",
        "  num_batches = len(dataloader)\n",
        "\n",
        "  model.eval()\n",
        "  test_loss, correct = 0,0\n",
        "\n",
        "  with torch.no_grad():\n",
        "    for X,y in dataloader:\n",
        "      X,y = X.to(device), y.to(device)\n",
        "      pred = model(X)\n",
        "      test_loss += loss_fn(pred, y).item()\n",
        "      correct += (pred.argmax(1) == y).type(torch.float).sum().item()\n",
        "  test_loss /= num_batches\n",
        "  correct /= size\n",
        "  print(f\"Test Error: \\n Accuracy: {(100*correct):>0.1f}%, Avg loss:{test_loss:>8f} \\n\")\n",
        "\n",
        "epochs = 5\n",
        "for t in range(epochs):\n",
        "  print(f\"Epochs{t+1}\\n---------------------------------\")\n",
        "  train(train_dataloader, model, loss_fn, optimizer)\n",
        "  test(test_dataloader, model, loss_fn)\n",
        "print(\"Done!\")"
      ],
      "metadata": {
        "colab": {
          "base_uri": "https://localhost:8080/"
        },
        "id": "SIva8XP5_2PL",
        "outputId": "0449d13a-45e6-417e-f4ea-97020820b661"
      },
      "execution_count": null,
      "outputs": [
        {
          "output_type": "stream",
          "name": "stdout",
          "text": [
            "Shape of X [N, C, H, W]: torch.Size([64, 1, 28, 28])\n",
            "Shape of y: torch.Size([64]) torch.int64\n",
            "Shape of X [N, C, H, W]: torch.Size([64, 1, 28, 28])\n",
            "Shape of y: torch.Size([64]) torch.int64\n",
            "Using cpu device\n",
            "NeuralNetwork(\n",
            "  (flatten): Flatten(start_dim=1, end_dim=-1)\n",
            "  (linear_relu_stack): Sequential(\n",
            "    (0): Linear(in_features=784, out_features=512, bias=True)\n",
            "    (1): ReLU()\n",
            "    (2): Linear(in_features=512, out_features=512, bias=True)\n",
            "    (3): ReLU()\n",
            "    (4): Linear(in_features=512, out_features=10, bias=True)\n",
            "  )\n",
            ")\n",
            "Epochs1\n",
            "---------------------------------\n",
            "loss:2.296197 [    0/60000]\n",
            "loss:2.291018 [ 6400/60000]\n",
            "loss:2.266498 [12800/60000]\n",
            "loss:2.262312 [19200/60000]\n",
            "loss:2.244138 [25600/60000]\n",
            "loss:2.206467 [32000/60000]\n",
            "loss:2.217498 [38400/60000]\n",
            "loss:2.172562 [44800/60000]\n",
            "loss:2.177181 [51200/60000]\n",
            "loss:2.140262 [57600/60000]\n",
            "Test Error: \n",
            " Accuracy: 44.9%, Avg loss:2.140139 \n",
            "\n",
            "Epochs2\n",
            "---------------------------------\n",
            "loss:2.156699 [    0/60000]\n",
            "loss:2.149240 [ 6400/60000]\n",
            "loss:2.085854 [12800/60000]\n",
            "loss:2.103993 [19200/60000]\n",
            "loss:2.054417 [25600/60000]\n",
            "loss:1.991005 [32000/60000]\n",
            "loss:2.017110 [38400/60000]\n",
            "loss:1.929709 [44800/60000]\n",
            "loss:1.944867 [51200/60000]\n",
            "loss:1.864426 [57600/60000]\n",
            "Test Error: \n",
            " Accuracy: 54.9%, Avg loss:1.864779 \n",
            "\n",
            "Epochs3\n",
            "---------------------------------\n",
            "loss:1.911240 [    0/60000]\n",
            "loss:1.877673 [ 6400/60000]\n",
            "loss:1.751665 [12800/60000]\n",
            "loss:1.793046 [19200/60000]\n",
            "loss:1.690081 [25600/60000]\n",
            "loss:1.641419 [32000/60000]\n",
            "loss:1.659887 [38400/60000]\n",
            "loss:1.553890 [44800/60000]\n",
            "loss:1.590023 [51200/60000]\n",
            "loss:1.477107 [57600/60000]\n",
            "Test Error: \n",
            " Accuracy: 60.8%, Avg loss:1.494507 \n",
            "\n",
            "Epochs4\n",
            "---------------------------------\n",
            "loss:1.575697 [    0/60000]\n",
            "loss:1.534568 [ 6400/60000]\n",
            "loss:1.375501 [12800/60000]\n",
            "loss:1.452756 [19200/60000]\n",
            "loss:1.339386 [25600/60000]\n",
            "loss:1.331199 [32000/60000]\n",
            "loss:1.347380 [38400/60000]\n",
            "loss:1.262042 [44800/60000]\n",
            "loss:1.304999 [51200/60000]\n",
            "loss:1.204514 [57600/60000]\n",
            "Test Error: \n",
            " Accuracy: 63.8%, Avg loss:1.228915 \n",
            "\n",
            "Epochs5\n",
            "---------------------------------\n",
            "loss:1.312601 [    0/60000]\n",
            "loss:1.292744 [ 6400/60000]\n",
            "loss:1.117815 [12800/60000]\n",
            "loss:1.232763 [19200/60000]\n",
            "loss:1.111597 [25600/60000]\n",
            "loss:1.130865 [32000/60000]\n",
            "loss:1.155218 [38400/60000]\n",
            "loss:1.083157 [44800/60000]\n",
            "loss:1.127239 [51200/60000]\n",
            "loss:1.044243 [57600/60000]\n",
            "Test Error: \n",
            " Accuracy: 65.1%, Avg loss:1.065726 \n",
            "\n",
            "Done!\n"
          ]
        }
      ]
    }
  ]
}